{
 "cells": [
  {
   "cell_type": "markdown",
   "id": "4c94c368-9965-47cd-9472-9f6505944493",
   "metadata": {},
   "source": [
    "# Netflix Recommendation System\n",
    "This notebook implements a content-based recommendation system for movies based on user input. We process a dataset of Netflix movies, and the recommendations are generated based on both the movie genres and the description provided by the user.\n"
   ]
  },
  {
   "cell_type": "markdown",
   "id": "415ca8e3-a54a-4b27-ad0a-7a4d99e78b86",
   "metadata": {},
   "source": [
    "## Step 1: Import Required Libraries\n",
    "We begin by importing the necessary libraries. pandas is used for handling the dataset, while TfidfVectorizer and cosine_similarity from sklearn are used to perform text analysis and similarity calculations."
   ]
  },
  {
   "cell_type": "code",
   "execution_count": 8,
   "id": "a5f34dac-9bdb-49d9-8b3e-05db99249748",
   "metadata": {},
   "outputs": [],
   "source": [
    "import pandas as pd\n",
    "from sklearn.feature_extraction.text import TfidfVectorizer\n",
    "from sklearn.metrics.pairwise import cosine_similarity\n",
    "import re\n",
    "import numpy as np"
   ]
  },
  {
   "cell_type": "markdown",
   "id": "bccc93c2-d41d-4c4b-a237-c4eb01abccc6",
   "metadata": {},
   "source": [
    "## Step 2: Load the Dataset\n",
    "We load the dataset into a pandas DataFrame. In this case, we are working with the netflix_titles.csv file, which contains information on Netflix movies and TV shows."
   ]
  },
  {
   "cell_type": "code",
   "execution_count": 9,
   "id": "36a02cfc-9b0a-4e2c-9264-23bb5cb3f49d",
   "metadata": {},
   "outputs": [
    {
     "name": "stdout",
     "output_type": "stream",
     "text": [
      "Dataset Preview:\n",
      "  show_id     type                  title         director  \\\n",
      "0      s1    Movie   Dick Johnson Is Dead  Kirsten Johnson   \n",
      "1      s2  TV Show          Blood & Water              NaN   \n",
      "2      s3  TV Show              Ganglands  Julien Leclercq   \n",
      "3      s4  TV Show  Jailbirds New Orleans              NaN   \n",
      "4      s5  TV Show           Kota Factory              NaN   \n",
      "\n",
      "                                                cast        country  \\\n",
      "0                                                NaN  United States   \n",
      "1  Ama Qamata, Khosi Ngema, Gail Mabalane, Thaban...   South Africa   \n",
      "2  Sami Bouajila, Tracy Gotoas, Samuel Jouy, Nabi...            NaN   \n",
      "3                                                NaN            NaN   \n",
      "4  Mayur More, Jitendra Kumar, Ranjan Raj, Alam K...          India   \n",
      "\n",
      "           date_added  release_year rating   duration  \\\n",
      "0  September 25, 2021          2020  PG-13     90 min   \n",
      "1  September 24, 2021          2021  TV-MA  2 Seasons   \n",
      "2  September 24, 2021          2021  TV-MA   1 Season   \n",
      "3  September 24, 2021          2021  TV-MA   1 Season   \n",
      "4  September 24, 2021          2021  TV-MA  2 Seasons   \n",
      "\n",
      "                                           listed_in  \\\n",
      "0                                      Documentaries   \n",
      "1    International TV Shows, TV Dramas, TV Mysteries   \n",
      "2  Crime TV Shows, International TV Shows, TV Act...   \n",
      "3                             Docuseries, Reality TV   \n",
      "4  International TV Shows, Romantic TV Shows, TV ...   \n",
      "\n",
      "                                         description  \n",
      "0  As her father nears the end of his life, filmm...  \n",
      "1  After crossing paths at a party, a Cape Town t...  \n",
      "2  To protect his family from a powerful drug lor...  \n",
      "3  Feuds, flirtations and toilet talk go down amo...  \n",
      "4  In a city of coaching centers known to train I...  \n"
     ]
    }
   ],
   "source": [
    "df = pd.read_csv(\"netflix_titles.csv\")\n",
    "\n",
    "# Display the first few rows to understand the dataset structure\n",
    "print(\"Dataset Preview:\")\n",
    "print(df.head())\n"
   ]
  },
  {
   "cell_type": "markdown",
   "id": "4c10e0b8-9517-46b1-b6c4-867cad574395",
   "metadata": {},
   "source": [
    "## Step 3: Data Preprocessing\n",
    "The next step is to preprocess the listed_in column to make sure that the genres are stored in lowercase and split by commas. This helps in consistent genre matching during recommendation."
   ]
  },
  {
   "cell_type": "code",
   "execution_count": 10,
   "id": "5bd1a11e-a5e2-4ae2-bb0d-3a0cd86594bc",
   "metadata": {},
   "outputs": [],
   "source": [
    "# Ensure 'listed_in' is processed into lowercase lists\n",
    "df['listed_in'] = df['listed_in'].apply(lambda x: [genre.strip().lower() for genre in x.split(',')] if isinstance(x, str) else [])"
   ]
  },
  {
   "cell_type": "markdown",
   "id": "cb667364-1503-439a-a3a4-7538c09410a4",
   "metadata": {},
   "source": [
    "## Step 4: Initialize TF-IDF Vectorizer\n",
    "We initialize the TfidfVectorizer from sklearn to convert the movie descriptions into numerical vectors, which will be used to compute cosine similarity between the user’s query and the movie descriptions."
   ]
  },
  {
   "cell_type": "code",
   "execution_count": 11,
   "id": "54345aa7-befb-4e8c-a6eb-bf0931c1941d",
   "metadata": {},
   "outputs": [],
   "source": [
    "# Initialize TF-IDF vectorizer\n",
    "vectorizer = TfidfVectorizer(stop_words=\"english\")\n",
    "tfidf_matrix = vectorizer.fit_transform(df[\"description\"].fillna(\"\"))  # Avoid NaN errors"
   ]
  },
  {
   "cell_type": "markdown",
   "id": "d100037a-0c81-4294-a0c5-2e6ef58f16dc",
   "metadata": {},
   "source": [
    "## Step 5: Extract Genre Keywords from User Input\n",
    "We define a function auto_extract_keywords to automatically extract genre-related keywords from the user input. These keywords will be used to boost the relevance of movie recommendations."
   ]
  },
  {
   "cell_type": "code",
   "execution_count": 12,
   "id": "4dcc0d39-dbf8-40f3-8a12-0b481611d1ae",
   "metadata": {},
   "outputs": [],
   "source": [
    "def auto_extract_keywords(user_input):\n",
    "    \"\"\"\n",
    "    Automatically extracts genre-related keywords from user input.\n",
    "    \"\"\"\n",
    "    genre_keywords = []\n",
    "    genre_terms = [\"action\", \"sci-fi\", \"comedy\", \"adventure\", \"space\", \"alien\", \"thriller\", \"drama\", \"mystery\", \"fantasy\"]\n",
    "    \n",
    "    # Convert user input to lowercase\n",
    "    user_input = user_input.lower()\n",
    "    \n",
    "    # Check for the presence of genre-related keywords in the user input\n",
    "    for term in genre_terms:\n",
    "        if term in user_input:\n",
    "            genre_keywords.append(term)\n",
    "    \n",
    "    print(\"Extracted Genre Keywords:\", genre_keywords)  # Debugging line\n",
    "    return genre_keywords"
   ]
  },
  {
   "cell_type": "markdown",
   "id": "31b51787-1b36-4c1c-9359-f2b95ff5bdfb",
   "metadata": {},
   "source": [
    "## Step 6: Content-Based Movie Recommendation Function\n",
    "This function, recommend, takes the user input and returns movie recommendations based on the similarity between the input and movie descriptions. It also applies genre matching and can filter results based on movie type (e.g., 'Movie' or 'TV Show') and release year."
   ]
  },
  {
   "cell_type": "code",
   "execution_count": 13,
   "id": "3639e6bc-99a2-4d5a-96bf-aced1cbba137",
   "metadata": {},
   "outputs": [],
   "source": [
    "def recommend(user_input, top_n=5, type_filter=None, min_genre_score=3, recent=False):\n",
    "    \"\"\"\n",
    "    Content-based recommendation with genre prioritization based on user input.\n",
    "\n",
    "    Parameters:\n",
    "    - user_input (str): The user's description of desired content.\n",
    "    - top_n (int): Number of recommendations.\n",
    "    - type_filter (str): Optional filter for 'Movie' or 'TV Show'.\n",
    "    - min_genre_score (int): Minimum required genre match score.\n",
    "    - recent (bool): If True, prioritize newer releases.\n",
    "\n",
    "    Returns:\n",
    "    - DataFrame with recommended titles.\n",
    "    \"\"\"\n",
    "    \n",
    "    # Automatically extract genre keywords from user input\n",
    "    genre_keywords = auto_extract_keywords(user_input)\n",
    "    \n",
    "    # Boosted query: Add user-specified terms\n",
    "    boosted_query = (user_input + \" \" + \" \".join(genre_keywords))\n",
    "    \n",
    "    # Compute cosine similarity\n",
    "    input_vec = vectorizer.transform([boosted_query])\n",
    "    similarities = cosine_similarity(input_vec, tfidf_matrix).flatten()\n",
    "    \n",
    "    # Fetch top_n candidates and filter by similarity\n",
    "    top_indices = similarities.argsort()[-top_n*5:][::-1]  # Fetch more candidates\n",
    "    recommended_items = df.iloc[top_indices].copy()\n",
    "    recommended_items = recommended_items[similarities[top_indices] > 0.1]  # Apply similarity threshold\n",
    "\n",
    "    # Adjust genre filtering\n",
    "    genre_boosted_keywords = [\"action\", \"sci-fi\", \"space\", \"adventure\", \"thriller\", \"alien\", \"drama\", \"mystery\", \"comedy\", \"fantasy\"]\n",
    "    \n",
    "    def genre_match_score(row_genres):\n",
    "        \"\"\"\n",
    "        Calculate a score for how well the genres of the content match the user input.\n",
    "        We'll consider partial matches (e.g., \"Sci-Fi\" for \"space\").\n",
    "        \"\"\"\n",
    "        return sum(1 for genre in row_genres if any(keyword in genre for keyword in genre_boosted_keywords))\n",
    "    \n",
    "    recommended_items['genre_match_score'] = recommended_items['listed_in'].apply(genre_match_score)\n",
    "    \n",
    "    # Debugging: Show genre match score distribution\n",
    "    print(\"Genre Match Scores Distribution:\")\n",
    "    print(recommended_items[['title', 'genre_match_score']].head())\n",
    "    \n",
    "    recommended_items = recommended_items[recommended_items['genre_match_score'] > 0]  # Only keep items that match at least one genre\n",
    "\n",
    "    # Apply type filter if needed\n",
    "    if type_filter:\n",
    "        recommended_items = recommended_items[recommended_items[\"type\"].str.contains(type_filter, case=False, na=False)]\n",
    "\n",
    "    # Prioritize recent content using exponential regression\n",
    "    if recent:\n",
    "        recommended_items['age_weight'] = recommended_items['release_year'].apply(lambda x: np.exp(-0.1 * (2025 - x)))  # Assume 2025 is the current year\n",
    "    else:\n",
    "        recommended_items['age_weight'] = 1  # No weight for non-recent content\n",
    "\n",
    "    # Sort primarily by genre match score and secondarily by release year (with weight)\n",
    "    sorted_recommendations = recommended_items.sort_values(by=[\"genre_match_score\", \"age_weight\"], ascending=False)\n",
    "\n",
    "    # Limit to top_n recommendations\n",
    "    top_recommendations = sorted_recommendations.head(top_n)\n",
    "\n",
    "    # Print recommendations in the requested format\n",
    "    if not top_recommendations.empty:\n",
    "        for index, row in top_recommendations[[\"title\", \"listed_in\", \"description\"]].iterrows():\n",
    "            print(f\"title: {row['title']}\")\n",
    "            print(f\"listed_in: {', '.join(row['listed_in'])}\")\n",
    "            print(f\"description: {row['description'][:150]}...\")  # Truncate description if it's too long\n",
    "            print(\"-\" * 40)  # Separator between recommendations\n",
    "    else:\n",
    "        print(\"No recommendations found.\")\n",
    "        "
   ]
  },
  {
   "cell_type": "markdown",
   "id": "21f7933b-be40-416d-a28b-e1b031bf28ef",
   "metadata": {},
   "source": [
    "## Step 7: Example Test and Recommendations\n",
    "Now, let’s test the recommendation function using a sample user query."
   ]
  },
  {
   "cell_type": "code",
   "execution_count": 16,
   "id": "20210395-d7d9-4963-affe-ee6cf539b451",
   "metadata": {},
   "outputs": [
    {
     "name": "stdout",
     "output_type": "stream",
     "text": [
      "Recommendations:\n",
      "Extracted Genre Keywords: ['action', 'space']\n",
      "Genre Match Scores Distribution:\n",
      "                            title  genre_match_score\n",
      "71    A StoryBots Space Adventure                  0\n",
      "5869                   Turbo FAST                  0\n",
      "5496          The Mars Generation                  0\n",
      "5650   Star Trek: Deep Space Nine                  2\n",
      "7772         Power Rangers S.P.D.                  0\n",
      "title: Incoming\n",
      "listed_in: action & adventure, sci-fi & fantasy\n",
      "description: When an imprisoned terrorist cell hijacks a high-security prison in outer space, a CIA agent becomes the one chance of stopping them....\n",
      "----------------------------------------\n",
      "title: Lockout\n",
      "listed_in: action & adventure, international movies, sci-fi & fantasy\n",
      "description: A government agent wrongly accused of a crime gets a shot at freedom if he can engineer a high-risk rescue mission to outer space....\n",
      "----------------------------------------\n",
      "title: Defiance\n",
      "listed_in: action & adventure, dramas\n",
      "description: In this action-packed drama based on an extraordinary true story, four brothers protect more than 1,000 Jewish refugees during World War II....\n",
      "----------------------------------------\n",
      "title: Star Trek: Deep Space Nine\n",
      "listed_in: tv action & adventure, tv sci-fi & fantasy\n",
      "description: In this \"Star Trek\" spin-off, Commander Sisko leads the multi-species crew of Deep Space Nine, a Federation space station with a complex mission....\n",
      "----------------------------------------\n",
      "title: Small Soldiers\n",
      "listed_in: action & adventure, comedies, sci-fi & fantasy\n",
      "description: When the Commando Elite, a group of toy action figures, are released before they've been tested, they attack the children playing with them....\n",
      "----------------------------------------\n"
     ]
    }
   ],
   "source": [
    "# Example Test: Action-packed space movies with comedy\n",
    "user_query = \"I like action movies set in space.\"\n",
    "\n",
    "print(\"Recommendations:\")\n",
    "recommendations = recommend(user_query, top_n=5, recent=True)\n"
   ]
  },
  {
   "cell_type": "markdown",
   "id": "d2ad3cb8-80cc-44c6-bc7f-589d6d91dd2d",
   "metadata": {},
   "source": [
    "## Summary\n",
    "This notebook showcases a content-based recommendation system that takes into account movie descriptions and user-defined genres. It utilizes text vectorization and similarity scoring to suggest relevant movies based on the user’s preferences. The code also includes genre-specific filtering and prioritizes recent content.\n"
   ]
  },
  {
   "cell_type": "raw",
   "id": "5e98360f-2bee-4f26-bbf6-f865336f28ad",
   "metadata": {},
   "source": [
    "Salary expectation per month: $1.6k - $2.4k per month"
   ]
  }
 ],
 "metadata": {
  "kernelspec": {
   "display_name": "Python 3 (ipykernel)",
   "language": "python",
   "name": "python3"
  },
  "language_info": {
   "codemirror_mode": {
    "name": "ipython",
    "version": 3
   },
   "file_extension": ".py",
   "mimetype": "text/x-python",
   "name": "python",
   "nbconvert_exporter": "python",
   "pygments_lexer": "ipython3",
   "version": "3.11.4"
  }
 },
 "nbformat": 4,
 "nbformat_minor": 5
}
