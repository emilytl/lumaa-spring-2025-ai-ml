{
 "cells": [
  {
   "cell_type": "markdown",
   "id": "4c94c368-9965-47cd-9472-9f6505944493",
   "metadata": {},
   "source": [
    "# Netflix Recommendation System\n",
    "This notebook implements a content-based recommendation system for movies based on user input. We process a dataset of Netflix movies, and the recommendations are generated based on both the movie genres and the description provided by the user.\n"
   ]
  },
  {
   "cell_type": "markdown",
   "id": "415ca8e3-a54a-4b27-ad0a-7a4d99e78b86",
   "metadata": {},
   "source": [
    "## Step 1: Import Required Libraries\n",
    "We begin by importing the necessary libraries. pandas is used for handling the dataset, while TfidfVectorizer and cosine_similarity from sklearn are used to perform text analysis and similarity calculations."
   ]
  },
  {
   "cell_type": "code",
   "execution_count": 6,
   "id": "a5f34dac-9bdb-49d9-8b3e-05db99249748",
   "metadata": {},
   "outputs": [
    {
     "ename": "ModuleNotFoundError",
     "evalue": "No module named 'pandas'",
     "output_type": "error",
     "traceback": [
      "\u001b[0;31m---------------------------------------------------------------------------\u001b[0m",
      "\u001b[0;31mModuleNotFoundError\u001b[0m                       Traceback (most recent call last)",
      "Cell \u001b[0;32mIn[6], line 1\u001b[0m\n\u001b[0;32m----> 1\u001b[0m \u001b[38;5;28;01mimport\u001b[39;00m\u001b[38;5;250m \u001b[39m\u001b[38;5;21;01mpandas\u001b[39;00m\u001b[38;5;250m \u001b[39m\u001b[38;5;28;01mas\u001b[39;00m\u001b[38;5;250m \u001b[39m\u001b[38;5;21;01mpd\u001b[39;00m\n\u001b[1;32m      2\u001b[0m \u001b[38;5;28;01mfrom\u001b[39;00m\u001b[38;5;250m \u001b[39m\u001b[38;5;21;01msklearn\u001b[39;00m\u001b[38;5;21;01m.\u001b[39;00m\u001b[38;5;21;01mfeature_extraction\u001b[39;00m\u001b[38;5;21;01m.\u001b[39;00m\u001b[38;5;21;01mtext\u001b[39;00m\u001b[38;5;250m \u001b[39m\u001b[38;5;28;01mimport\u001b[39;00m TfidfVectorizer\n\u001b[1;32m      3\u001b[0m \u001b[38;5;28;01mfrom\u001b[39;00m\u001b[38;5;250m \u001b[39m\u001b[38;5;21;01msklearn\u001b[39;00m\u001b[38;5;21;01m.\u001b[39;00m\u001b[38;5;21;01mmetrics\u001b[39;00m\u001b[38;5;21;01m.\u001b[39;00m\u001b[38;5;21;01mpairwise\u001b[39;00m\u001b[38;5;250m \u001b[39m\u001b[38;5;28;01mimport\u001b[39;00m cosine_similarity\n",
      "\u001b[0;31mModuleNotFoundError\u001b[0m: No module named 'pandas'"
     ]
    }
   ],
   "source": [
    "import pandas as pd\n",
    "from sklearn.feature_extraction.text import TfidfVectorizer\n",
    "from sklearn.metrics.pairwise import cosine_similarity\n",
    "import re\n",
    "import numpy as np"
   ]
  },
  {
   "cell_type": "markdown",
   "id": "bccc93c2-d41d-4c4b-a237-c4eb01abccc6",
   "metadata": {},
   "source": [
    "## Step 2: Load the Dataset\n",
    "We load the dataset into a pandas DataFrame. In this case, we are working with the netflix_titles.csv file, which contains information on Netflix movies and TV shows."
   ]
  },
  {
   "cell_type": "code",
   "execution_count": 6,
   "id": "36a02cfc-9b0a-4e2c-9264-23bb5cb3f49d",
   "metadata": {},
   "outputs": [
    {
     "ename": "NameError",
     "evalue": "name 'pd' is not defined",
     "output_type": "error",
     "traceback": [
      "\u001b[0;31m---------------------------------------------------------------------------\u001b[0m",
      "\u001b[0;31mNameError\u001b[0m                                 Traceback (most recent call last)",
      "Cell \u001b[0;32mIn[6], line 1\u001b[0m\n\u001b[0;32m----> 1\u001b[0m df \u001b[38;5;241m=\u001b[39m \u001b[43mpd\u001b[49m\u001b[38;5;241m.\u001b[39mread_csv(\u001b[38;5;124m\"\u001b[39m\u001b[38;5;124mnetflix_titles.csv\u001b[39m\u001b[38;5;124m\"\u001b[39m)\n\u001b[1;32m      3\u001b[0m \u001b[38;5;66;03m# Display the first few rows to understand the dataset structure\u001b[39;00m\n\u001b[1;32m      4\u001b[0m \u001b[38;5;28mprint\u001b[39m(\u001b[38;5;124m\"\u001b[39m\u001b[38;5;124mDataset Preview:\u001b[39m\u001b[38;5;124m\"\u001b[39m)\n",
      "\u001b[0;31mNameError\u001b[0m: name 'pd' is not defined"
     ]
    }
   ],
   "source": [
    "df = pd.read_csv(\"netflix_titles.csv\")\n",
    "\n",
    "# Display the first few rows to understand the dataset structure\n",
    "print(\"Dataset Preview:\")\n",
    "print(df.head())\n"
   ]
  },
  {
   "cell_type": "markdown",
   "id": "4c10e0b8-9517-46b1-b6c4-867cad574395",
   "metadata": {},
   "source": [
    "## Step 3: Data Preprocessing\n",
    "The next step is to preprocess the listed_in column to make sure that the genres are stored in lowercase and split by commas. This helps in consistent genre matching during recommendation."
   ]
  },
  {
   "cell_type": "code",
   "execution_count": 7,
   "id": "5bd1a11e-a5e2-4ae2-bb0d-3a0cd86594bc",
   "metadata": {},
   "outputs": [
    {
     "ename": "NameError",
     "evalue": "name 'df' is not defined",
     "output_type": "error",
     "traceback": [
      "\u001b[0;31m---------------------------------------------------------------------------\u001b[0m",
      "\u001b[0;31mNameError\u001b[0m                                 Traceback (most recent call last)",
      "Cell \u001b[0;32mIn[7], line 2\u001b[0m\n\u001b[1;32m      1\u001b[0m \u001b[38;5;66;03m# Ensure 'listed_in' is processed into lowercase lists\u001b[39;00m\n\u001b[0;32m----> 2\u001b[0m df[\u001b[38;5;124m'\u001b[39m\u001b[38;5;124mlisted_in\u001b[39m\u001b[38;5;124m'\u001b[39m] \u001b[38;5;241m=\u001b[39m \u001b[43mdf\u001b[49m[\u001b[38;5;124m'\u001b[39m\u001b[38;5;124mlisted_in\u001b[39m\u001b[38;5;124m'\u001b[39m]\u001b[38;5;241m.\u001b[39mapply(\u001b[38;5;28;01mlambda\u001b[39;00m x: [genre\u001b[38;5;241m.\u001b[39mstrip()\u001b[38;5;241m.\u001b[39mlower() \u001b[38;5;28;01mfor\u001b[39;00m genre \u001b[38;5;129;01min\u001b[39;00m x\u001b[38;5;241m.\u001b[39msplit(\u001b[38;5;124m'\u001b[39m\u001b[38;5;124m,\u001b[39m\u001b[38;5;124m'\u001b[39m)] \u001b[38;5;28;01mif\u001b[39;00m \u001b[38;5;28misinstance\u001b[39m(x, \u001b[38;5;28mstr\u001b[39m) \u001b[38;5;28;01melse\u001b[39;00m [])\n",
      "\u001b[0;31mNameError\u001b[0m: name 'df' is not defined"
     ]
    }
   ],
   "source": [
    "# Ensure 'listed_in' is processed into lowercase lists\n",
    "df['listed_in'] = df['listed_in'].apply(lambda x: [genre.strip().lower() for genre in x.split(',')] if isinstance(x, str) else [])"
   ]
  },
  {
   "cell_type": "markdown",
   "id": "cb667364-1503-439a-a3a4-7538c09410a4",
   "metadata": {},
   "source": [
    "## Step 4: Initialize TF-IDF Vectorizer\n",
    "We initialize the TfidfVectorizer from sklearn to convert the movie descriptions into numerical vectors, which will be used to compute cosine similarity between the user’s query and the movie descriptions."
   ]
  },
  {
   "cell_type": "code",
   "execution_count": 8,
   "id": "54345aa7-befb-4e8c-a6eb-bf0931c1941d",
   "metadata": {},
   "outputs": [
    {
     "ename": "NameError",
     "evalue": "name 'TfidfVectorizer' is not defined",
     "output_type": "error",
     "traceback": [
      "\u001b[0;31m---------------------------------------------------------------------------\u001b[0m",
      "\u001b[0;31mNameError\u001b[0m                                 Traceback (most recent call last)",
      "Cell \u001b[0;32mIn[8], line 2\u001b[0m\n\u001b[1;32m      1\u001b[0m \u001b[38;5;66;03m# Initialize TF-IDF vectorizer\u001b[39;00m\n\u001b[0;32m----> 2\u001b[0m vectorizer \u001b[38;5;241m=\u001b[39m \u001b[43mTfidfVectorizer\u001b[49m(stop_words\u001b[38;5;241m=\u001b[39m\u001b[38;5;124m\"\u001b[39m\u001b[38;5;124menglish\u001b[39m\u001b[38;5;124m\"\u001b[39m)\n\u001b[1;32m      3\u001b[0m tfidf_matrix \u001b[38;5;241m=\u001b[39m vectorizer\u001b[38;5;241m.\u001b[39mfit_transform(df[\u001b[38;5;124m\"\u001b[39m\u001b[38;5;124mdescription\u001b[39m\u001b[38;5;124m\"\u001b[39m]\u001b[38;5;241m.\u001b[39mfillna(\u001b[38;5;124m\"\u001b[39m\u001b[38;5;124m\"\u001b[39m))  \u001b[38;5;66;03m# Avoid NaN errors\u001b[39;00m\n",
      "\u001b[0;31mNameError\u001b[0m: name 'TfidfVectorizer' is not defined"
     ]
    }
   ],
   "source": [
    "# Initialize TF-IDF vectorizer\n",
    "vectorizer = TfidfVectorizer(stop_words=\"english\")\n",
    "tfidf_matrix = vectorizer.fit_transform(df[\"description\"].fillna(\"\"))  # Avoid NaN errors"
   ]
  },
  {
   "cell_type": "markdown",
   "id": "d100037a-0c81-4294-a0c5-2e6ef58f16dc",
   "metadata": {},
   "source": [
    "## Step 5: Extract Genre Keywords from User Input\n",
    "We define a function auto_extract_keywords to automatically extract genre-related keywords from the user input. These keywords will be used to boost the relevance of movie recommendations."
   ]
  },
  {
   "cell_type": "code",
   "execution_count": 6,
   "id": "4dcc0d39-dbf8-40f3-8a12-0b481611d1ae",
   "metadata": {},
   "outputs": [],
   "source": [
    "def auto_extract_keywords(user_input):\n",
    "    \"\"\"\n",
    "    Automatically extracts genre-related keywords from user input.\n",
    "    \"\"\"\n",
    "    genre_keywords = []\n",
    "    genre_terms = [\"action\", \"sci-fi\", \"comedy\", \"adventure\", \"space\", \"alien\", \"thriller\", \"drama\", \"mystery\", \"fantasy\"]\n",
    "    \n",
    "    # Convert user input to lowercase\n",
    "    user_input = user_input.lower()\n",
    "    \n",
    "    # Check for the presence of genre-related keywords in the user input\n",
    "    for term in genre_terms:\n",
    "        if term in user_input:\n",
    "            genre_keywords.append(term)\n",
    "    \n",
    "    return genre_keywords\n"
   ]
  },
  {
   "cell_type": "markdown",
   "id": "31b51787-1b36-4c1c-9359-f2b95ff5bdfb",
   "metadata": {},
   "source": [
    "## Step 6: Content-Based Movie Recommendation Function\n",
    "This function, recommend, takes the user input and returns movie recommendations based on the similarity between the input and movie descriptions. It also applies genre matching and can filter results based on movie type (e.g., 'Movie' or 'TV Show') and release year."
   ]
  },
  {
   "cell_type": "code",
   "execution_count": 7,
   "id": "3639e6bc-99a2-4d5a-96bf-aced1cbba137",
   "metadata": {},
   "outputs": [],
   "source": [
    "def recommend(user_input, top_n=5, type_filter=None, min_genre_score=3, recent=False):\n",
    "    \"\"\"\n",
    "    Content-based recommendation with genre prioritization based on user input.\n",
    "\n",
    "    Parameters:\n",
    "    - user_input (str): The user's description of desired content.\n",
    "    - top_n (int): Number of recommendations.\n",
    "    - type_filter (str): Optional filter for 'Movie' or 'TV Show'.\n",
    "    - min_genre_score (int): Minimum required genre match score.\n",
    "    - recent (bool): If True, prioritize newer releases.\n",
    "\n",
    "    Returns:\n",
    "    - DataFrame with recommended titles.\n",
    "    \"\"\"\n",
    "    # Automatically extract genre keywords from user input\n",
    "    genre_keywords = auto_extract_keywords(user_input)\n",
    "    \n",
    "    # Boosted query: Add user-specified terms\n",
    "    boosted_query = (user_input + \" \" + \" \".join(genre_keywords))\n",
    "    \n",
    "    # Compute cosine similarity\n",
    "    input_vec = vectorizer.transform([boosted_query])\n",
    "    similarities = cosine_similarity(input_vec, tfidf_matrix).flatten()\n",
    "    \n",
    "    # Fetch top_n candidates and filter by similarity\n",
    "    top_indices = similarities.argsort()[-top_n*5:][::-1]  # Fetch more candidates\n",
    "    recommended_items = df.iloc[top_indices].copy()\n",
    "    recommended_items = recommended_items[similarities[top_indices] > 0.1]  # Apply similarity threshold\n",
    "\n",
    "    # Adjust genre filtering\n",
    "    genre_boosted_keywords = [\"action\", \"sci-fi\", \"space\", \"adventure\", \"thriller\", \"alien\", \"drama\", \"mystery\", \"comedy\", \"fantasy\"]\n",
    "    \n",
    "    def genre_match_score(row_genres):\n",
    "        \"\"\"\n",
    "        Calculate a score for how well the genres of the content match the user input.\n",
    "        We'll consider partial matches (e.g., \"Sci-Fi\" for \"space\").\n",
    "        \"\"\"\n",
    "        return sum(1 for genre in row_genres if any(keyword in genre for keyword in genre_boosted_keywords))\n",
    "    \n",
    "    recommended_items['genre_match_score'] = recommended_items['listed_in'].apply(genre_match_score)\n",
    "    \n",
    "    recommended_items = recommended_items[recommended_items['genre_match_score'] > 0]  # Only keep items that match at least one genre\n",
    "\n",
    "    # Apply type filter if needed\n",
    "    if type_filter:\n",
    "        recommended_items = recommended_items[recommended_items[\"type\"].str.contains(type_filter, case=False, na=False)]\n",
    "\n",
    "    # Prioritize recent content using exponential regression\n",
    "    if recent:\n",
    "        recommended_items['age_weight'] = recommended_items['release_year'].apply(lambda x: np.exp(-0.1 * (2025 - x)))  # Assume 2025 is the current year\n",
    "    else:\n",
    "        recommended_items['age_weight'] = 1  # No weight for non-recent content\n",
    "\n",
    "    # Sort primarily by genre match score and secondarily by release year (with weight)\n",
    "    sorted_recommendations = recommended_items.sort_values(by=[\"genre_match_score\", \"age_weight\"], ascending=False)\n",
    "\n",
    "    # Limit to top_n recommendations\n",
    "    top_recommendations = sorted_recommendations.head(top_n)\n",
    "\n",
    "    # Print recommendations in the requested format\n",
    "    if not top_recommendations.empty:\n",
    "        for index, row in top_recommendations[[\"title\", \"listed_in\", \"description\"]].iterrows():\n",
    "            print(f\"title: {row['title']}\")\n",
    "            print(f\"listed_in: {', '.join(row['listed_in'])}\")\n",
    "            print(f\"description: {row['description'][:150]}...\")  # Truncate description if it's too long\n",
    "            print(\"-\" * 40)  # Separator between recommendations\n",
    "    else:\n",
    "        print(\"No recommendations found.\")\n"
   ]
  },
  {
   "cell_type": "markdown",
   "id": "21f7933b-be40-416d-a28b-e1b031bf28ef",
   "metadata": {},
   "source": [
    "## Step 7: Example Test and Recommendations\n",
    "Now, let’s test the recommendation function using a sample user query."
   ]
  },
  {
   "cell_type": "code",
   "execution_count": null,
   "id": "20210395-d7d9-4963-affe-ee6cf539b451",
   "metadata": {},
   "outputs": [],
   "source": [
    "# Example Test: \n",
    "user_query = \"I love thrilling action movies set in space, with a comedic twist.\"\n",
    "\n",
    "print(\"Recommendations:\")\n",
    "recommendations = recommend(user_query, top_n=5, recent=True)\n"
   ]
  },
  {
   "cell_type": "markdown",
   "id": "d2ad3cb8-80cc-44c6-bc7f-589d6d91dd2d",
   "metadata": {},
   "source": [
    "## Summary\n",
    "This notebook showcases a content-based recommendation system that takes into account movie descriptions and user-defined genres. It utilizes text vectorization and similarity scoring to suggest relevant movies based on the user’s preferences. The code also includes genre-specific filtering and prioritizes recent content.\n"
   ]
  },
  {
   "cell_type": "raw",
   "id": "5e98360f-2bee-4f26-bbf6-f865336f28ad",
   "metadata": {},
   "source": [
    "Salary expectation per month: $1.6k - $2.4k per month"
   ]
  }
 ],
 "metadata": {
  "kernelspec": {
   "display_name": "Python 3 (ipykernel)",
   "language": "python",
   "name": "python3"
  },
  "language_info": {
   "codemirror_mode": {
    "name": "ipython",
    "version": 3
   },
   "file_extension": ".py",
   "mimetype": "text/x-python",
   "name": "python",
   "nbconvert_exporter": "python",
   "pygments_lexer": "ipython3",
   "version": "3.11.4"
  }
 },
 "nbformat": 4,
 "nbformat_minor": 5
}
